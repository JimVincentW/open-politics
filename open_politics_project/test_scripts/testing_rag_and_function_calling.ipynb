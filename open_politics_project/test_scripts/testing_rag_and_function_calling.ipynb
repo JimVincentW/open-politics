{
 "cells": [
  {
   "cell_type": "code",
   "execution_count": 14,
   "metadata": {},
   "outputs": [],
   "source": [
    "import langchain\n",
    "import langchain_decorators\n",
    "from langchain.agents import load_tools\n",
    "from langchain_decorators import llm_function, llm_prompt, GlobalSettings\n",
    "import os"
   ]
  },
  {
   "cell_type": "code",
   "execution_count": 15,
   "metadata": {},
   "outputs": [],
   "source": [
    "os.environ[\"SEARCHAPI_API_KEY\"] = \"jC8GsfztPNP1e45xpc8GWKiV\""
   ]
  },
  {
   "cell_type": "code",
   "execution_count": 16,
   "metadata": {},
   "outputs": [],
   "source": [
    "@llm_function\n",
    "def send_message(message:str, addressee:str=None, message_type:str=\"email\"):\n",
    "    \"\"\" Use this if user asks to send some message\n",
    "\n",
    "    Args:\n",
    "        message (str): message text to send\n",
    "        addressee (str): email of the adressese... in format firstName.lastName@company.com\n",
    "        message_type (str, optional): enum: [\"email\"|\"whatsapp\"]\n",
    "    \"\"\"\n",
    "\n",
    "    if message_type==\"email\":\n",
    "        send_email(addressee, message)\n",
    "    elif message_type==\"whatsapp\":\n",
    "        send_whatsapp(addressee, message)\n",
    "        "
   ]
  },
  {
   "cell_type": "code",
   "execution_count": 18,
   "metadata": {},
   "outputs": [],
   "source": [
    "list_of_other_tools = load_tools(\n",
    "    tool_names= ['searchapi'],\n",
    "    llm=GlobalSettings.get_current_settings().default_llm)"
   ]
  },
  {
   "cell_type": "code",
   "execution_count": 19,
   "metadata": {},
   "outputs": [
    {
     "ename": "NameError",
     "evalue": "name 'List' is not defined",
     "output_type": "error",
     "traceback": [
      "\u001b[0;31m---------------------------------------------------------------------------\u001b[0m",
      "\u001b[0;31mNameError\u001b[0m                                 Traceback (most recent call last)",
      "\u001b[1;32m/Users/jimvincentwagner/Pol/open-politics/testing_rag_and_function_calling.ipynb Cell 5\u001b[0m line \u001b[0;36m2\n\u001b[1;32m      <a href='vscode-notebook-cell:/Users/jimvincentwagner/Pol/open-politics/testing_rag_and_function_calling.ipynb#W3sZmlsZQ%3D%3D?line=0'>1</a>\u001b[0m \u001b[39m@llm_prompt\u001b[39m\n\u001b[0;32m----> <a href='vscode-notebook-cell:/Users/jimvincentwagner/Pol/open-politics/testing_rag_and_function_calling.ipynb#W3sZmlsZQ%3D%3D?line=1'>2</a>\u001b[0m \u001b[39mdef\u001b[39;00m \u001b[39mdo_what_user_asks_for\u001b[39m(user_input:\u001b[39mstr\u001b[39m, functions:List[Union[Callable,BaseTool]]):\n\u001b[1;32m      <a href='vscode-notebook-cell:/Users/jimvincentwagner/Pol/open-politics/testing_rag_and_function_calling.ipynb#W3sZmlsZQ%3D%3D?line=2'>3</a>\u001b[0m \u001b[39m    \u001b[39m\u001b[39m\"\"\" \u001b[39;00m\n\u001b[1;32m      <a href='vscode-notebook-cell:/Users/jimvincentwagner/Pol/open-politics/testing_rag_and_function_calling.ipynb#W3sZmlsZQ%3D%3D?line=3'>4</a>\u001b[0m \u001b[39m    ``` <prompt:system>\u001b[39;00m\n\u001b[1;32m      <a href='vscode-notebook-cell:/Users/jimvincentwagner/Pol/open-politics/testing_rag_and_function_calling.ipynb#W3sZmlsZQ%3D%3D?line=4'>5</a>\u001b[0m \u001b[39m    Your role is to be a helpful asistant.\u001b[39;00m\n\u001b[0;32m   (...)\u001b[0m\n\u001b[1;32m      <a href='vscode-notebook-cell:/Users/jimvincentwagner/Pol/open-politics/testing_rag_and_function_calling.ipynb#W3sZmlsZQ%3D%3D?line=8'>9</a>\u001b[0m \u001b[39m    ```\u001b[39;00m\n\u001b[1;32m     <a href='vscode-notebook-cell:/Users/jimvincentwagner/Pol/open-politics/testing_rag_and_function_calling.ipynb#W3sZmlsZQ%3D%3D?line=9'>10</a>\u001b[0m \u001b[39m    \"\"\"\u001b[39;00m\n\u001b[1;32m     <a href='vscode-notebook-cell:/Users/jimvincentwagner/Pol/open-politics/testing_rag_and_function_calling.ipynb#W3sZmlsZQ%3D%3D?line=11'>12</a>\u001b[0m user_input\u001b[39m=\u001b[39m\u001b[39m\"\u001b[39m\u001b[39mYo, send an email to John Smith that I will be late for the meeting\u001b[39m\u001b[39m\"\u001b[39m\n",
      "\u001b[0;31mNameError\u001b[0m: name 'List' is not defined"
     ]
    }
   ],
   "source": [
    "@llm_prompt\n",
    "def do_what_user_asks_for(user_input:str, functions:List[Union[Callable,BaseTool]]):\n",
    "    \"\"\" \n",
    "    ``` <prompt:system>\n",
    "    Your role is to be a helpful asistant.\n",
    "    ```\n",
    "    ``` <prompt:user>\n",
    "    {user_input}\n",
    "    ```\n",
    "    \"\"\"\n",
    "\n",
    "user_input=\"Yo, send an email to John Smith that I will be late for the meeting\"\n",
    "result = do_what_user_asks_for(\n",
    "        user_input=user_input, \n",
    "        functions=[send_message, *list_of_other_tools]\n",
    "    )\n",
    "\n",
    "if result.is_function_call:\n",
    "    result.execute()\n",
    "else:\n",
    "    print(result.output_text)"
   ]
  }
 ],
 "metadata": {
  "kernelspec": {
   "display_name": "Python 3",
   "language": "python",
   "name": "python3"
  },
  "language_info": {
   "codemirror_mode": {
    "name": "ipython",
    "version": 3
   },
   "file_extension": ".py",
   "mimetype": "text/x-python",
   "name": "python",
   "nbconvert_exporter": "python",
   "pygments_lexer": "ipython3",
   "version": "3.10.13"
  }
 },
 "nbformat": 4,
 "nbformat_minor": 2
}
