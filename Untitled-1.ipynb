{
 "cells": [
  {
   "cell_type": "code",
   "execution_count": 1,
   "metadata": {},
   "outputs": [
    {
     "name": "stderr",
     "output_type": "stream",
     "text": [
      "/Users/jimvincentwagner/miniconda3/lib/python3.11/site-packages/tqdm/auto.py:21: TqdmWarning: IProgress not found. Please update jupyter and ipywidgets. See https://ipywidgets.readthedocs.io/en/stable/user_install.html\n",
      "  from .autonotebook import tqdm as notebook_tqdm\n"
     ]
    }
   ],
   "source": [
    "from transformers import pipeline\n",
    "import requests\n",
    "import networkx as nx\n",
    "import matplotlib.pyplot as plt\n",
    "import os\n",
    "import pandas as pd\n",
    "import plotly.express as px\n",
    "import openai\n",
    "import sys\n",
    "from transformers import pipeline\n",
    "\n",
    "# Query\n",
    "language = 'us'\n",
    "query = 'Israel'\n",
    "topic = query\n",
    "pageSize = 40\n",
    "sources_choice = None\n",
    "\n",
    "# Load the BART - Summarization pipeline\n",
    "summarizer = pipeline(\"summarization\", model=\"facebook/bart-large-cnn\")\n"
   ]
  },
  {
   "cell_type": "code",
   "execution_count": null,
   "metadata": {},
   "outputs": [],
   "source": []
  },
  {
   "cell_type": "code",
   "execution_count": null,
   "metadata": {},
   "outputs": [],
   "source": [
    "\n",
    "\n",
    "\n",
    "if sources_choice == 'all' or sources_choice is None:\n",
    "    sources = None\n",
    "elif sources_choice == 'trusted':\n",
    "    sources = 'bbc-news, the-wall-street-journal, the-washington-post, the-new-york-times, the-hill, the-guardian-uk, politico, al-jazeera-english', 'dw'\n",
    "    \n",
    "\n",
    "\n",
    "\n",
    "# Query News API\n",
    "def call_with_search_parameters(options):\n",
    "    api_key = os.environ.get('NEWS_API_KEY')\n",
    "    url = 'https://newsapi.org/v2/top-headlines'\n",
    "\n",
    "    call_parameters = {\n",
    "        #'country': options.get('country'),\n",
    "        'category': options.get('category'),\n",
    "        'sources': options.get('sources'),\n",
    "        'q': options.get('q'),\n",
    "        'pageSize': options.get('pageSize', 10),\n",
    "        'page': options.get('page', 1)\n",
    "    }\n",
    "    # Filter out None values to prevent sending empty parameters\n",
    "    call_parameters = {k: v for k, v in call_parameters.items() if v is not None}\n",
    "\n",
    "    response = requests.get(url, params=call_parameters, headers={'Authorization': f'Bearer {api_key}'})\n",
    "\n",
    "    if response.status_code == 200:\n",
    "        json_data = response.json()\n",
    "        if 'articles' in json_data:\n",
    "            articles = json_data['articles']\n",
    "            df = pd.DataFrame(articles, columns=['source', 'author', 'title', 'description', 'url', 'urlToImage', 'publishedAt', 'content'])\n",
    "            \n",
    "            for article in articles:\n",
    "                source = article.get('source', {}).get('name', None)\n",
    "                title = article.get('title')\n",
    "                content = article.get('content')\n",
    "                if not title or not content:\n",
    "                    print(f\"Warning: Missing title or content in article {article['title']}\")\n",
    "                    continue\n",
    "                # print(f\"Source: {source}\")\n",
    "                # print(f\"Title: {title}\")\n",
    "                # print(f\"Content: {content}\")\n",
    "                # print(\"-\" * 50)  # Print a separator for better readability\n",
    "            return df\n",
    "        else:\n",
    "            print(\"Unexpected API response:\", json_data)\n",
    "            return pd.DataFrame()\n",
    "    else:\n",
    "        print(\"Unexpected API response:\", response.status_code, response.text)\n",
    "        return pd.DataFrame()\n",
    "    \n",
    "\n",
    "\n",
    "\n"
   ]
  },
  {
   "cell_type": "code",
   "execution_count": null,
   "metadata": {},
   "outputs": [],
   "source": [
    "def add_sums_to_df(df):\n",
    "    df['summary'] = None\n",
    "    for idx, row in df.iterrows():\n",
    "        article_text = row['content']\n",
    "        if article_text:  # this will check if article_text is not None or not NaN\n",
    "            summary = summarizer(article_text, min_length=5, max_length=100)\n",
    "            df.at[idx, 'summary'] = summary\n",
    "    return df\n",
    "\n",
    "def main():\n",
    "    df = call_with_search_parameters({'q': query, 'pageSize': pageSize, 'sources': sources})\n",
    "    # df = add_sums_to_df(df)\n",
    "    print(df['url'][:5])\n",
    "    return df\n",
    "\n",
    "add_sums_to_df(df=df)\n"
   ]
  }
 ],
 "metadata": {
  "kernelspec": {
   "display_name": "base",
   "language": "python",
   "name": "python3"
  },
  "language_info": {
   "codemirror_mode": {
    "name": "ipython",
    "version": 3
   },
   "file_extension": ".py",
   "mimetype": "text/x-python",
   "name": "python",
   "nbconvert_exporter": "python",
   "pygments_lexer": "ipython3",
   "version": "3.11.4"
  }
 },
 "nbformat": 4,
 "nbformat_minor": 2
}
